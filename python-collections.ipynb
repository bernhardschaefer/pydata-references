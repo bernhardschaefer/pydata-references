{
 "cells": [
  {
   "cell_type": "markdown",
   "metadata": {},
   "source": [
    "# Basic sequence types\n",
    "\n",
    "- list, tuple, set, dict\n",
    "\n",
    "### List\n",
    "\n",
    "- mutable (e.g. append)"
   ]
  },
  {
   "cell_type": "code",
   "execution_count": 1,
   "metadata": {},
   "outputs": [
    {
     "data": {
      "text/plain": [
       "42"
      ]
     },
     "execution_count": 1,
     "metadata": {},
     "output_type": "execute_result"
    }
   ],
   "source": [
    "l = [4, 2, '4', '3', 4, 5.3, 6]\n",
    "l[:3] # exclusive\n",
    "l[3:] # inclusive\n",
    "l[1:3]\n",
    "l[1:5:2] # slice every 2nd from 1 to 5\n",
    "first, second, *remainder, last = l # unpack list\n",
    "\n",
    "l.append(7) # append inplace\n",
    "\n",
    "l.pop() # list can be used as stack with append() + pop()\n",
    "\n",
    "l.index(2) # -> '4'\n",
    "l.count(4) # -> 2\n",
    "\n",
    "l[:0] = [-2, -1] # prepend elements to list\n",
    "\n",
    "l += [8, 9] # create new list from concatenated lists \n",
    "\n",
    "3 * [0] # [0, 0, 0]\n",
    "\n",
    "2 in l # True\n",
    "[2, 3] in l # False\n",
    "[2, 3] in [1, [2,3], 4] # True\n",
    "\n",
    "[x**2 for x in [1, 2, 3]] # use list comprehension for modifying elements in list\n",
    "\n",
    "sum(map(int,l))"
   ]
  },
  {
   "cell_type": "markdown",
   "metadata": {},
   "source": [
    "### Tuple\n",
    "\n",
    "- immutable\n",
    "- otherwise behaves similar to list"
   ]
  },
  {
   "cell_type": "code",
   "execution_count": 2,
   "metadata": {},
   "outputs": [],
   "source": [
    "t = (4, 2, '4', '3', 4, 5.3, 6)"
   ]
  },
  {
   "cell_type": "markdown",
   "metadata": {},
   "source": [
    "### Set"
   ]
  },
  {
   "cell_type": "code",
   "execution_count": 3,
   "metadata": {},
   "outputs": [
    {
     "data": {
      "text/plain": [
       "False"
      ]
     },
     "execution_count": 3,
     "metadata": {},
     "output_type": "execute_result"
    }
   ],
   "source": [
    "s1 = {1, 2, 3}\n",
    "s2 = {2, 4, 6}\n",
    "\n",
    "s1 - s2 # s1.difference(s2) \n",
    "s1 & s2 # s1.intersection(s2)\n",
    "s1 | s2 # s1.union(s2)\n",
    "s1 ^ s2 # XOR: s1.symmetric_difference(s2)\n",
    "\n",
    "s1 >= s2 # s1.issuperset(s2)x\n",
    "s1.issubset(s2) # False\n",
    "\n",
    "# add, remove, discard, pop, clear, ...\n",
    "\n",
    "s1.isdisjoint(s2) # False due to 2"
   ]
  },
  {
   "cell_type": "markdown",
   "metadata": {},
   "source": [
    "### Dict"
   ]
  },
  {
   "cell_type": "code",
   "execution_count": 4,
   "metadata": {},
   "outputs": [
    {
     "name": "stdout",
     "output_type": "stream",
     "text": [
      "1 foo\n",
      "2 bar\n"
     ]
    }
   ],
   "source": [
    "# dict / hashmap\n",
    "d = {1:'foo', 2:'bar'}\n",
    "d = dict(zip([1, 2], ['foo', 'bar']))\n",
    "\n",
    "d[1]\n",
    "d.get(3) # None instead of KeyError\n",
    "d.get(3, 'fallback')\n",
    "\n",
    "1 in d # 1 in d.keys()\n",
    "'foo' in d.values()\n",
    "\n",
    "for (k, v) in d.items(): # unpacking\n",
    "    print(k, v)"
   ]
  },
  {
   "cell_type": "markdown",
   "metadata": {},
   "source": [
    "# Collections module"
   ]
  },
  {
   "cell_type": "code",
   "execution_count": 5,
   "metadata": {},
   "outputs": [],
   "source": [
    "# collections.namedtuple\n",
    "from collections import namedtuple\n",
    "Point = namedtuple('Point', ['x', 'y'])\n",
    "p = Point(11, y=22)\n",
    "p.x == p[0]\n",
    "\n",
    "t = [1, 2]\n",
    "p2 = Point(*t)\n",
    "\n",
    "# collections.defaultdict\n",
    "# can be used to conveniently create a multimap\n",
    "# Java equivalent: Map<K, List<V>> or Guava Multimap\n",
    "from collections import defaultdict\n",
    "dd = defaultdict(list)\n",
    "dd['key'].append('val1') # {'key': ['val1']}\n",
    "dd['key'].append('val2') # {'key': ['val1', 'val2']}\n",
    "\n",
    "# collections.Counter\n",
    "# can be used to conveniently create a counting multiset (https://en.wikipedia.org/wiki/Multiset#Counting_multisets)\n",
    "# Java equivalent: Map<E, Integer> or Guava Multiset\n",
    "from collections import Counter\n",
    "word_count = Counter('two times two four'.split()) # {'four': 1, 'times': 1, 'two': 2}\n",
    "word_count.update(['four']) # {'four': 2, 'times': 1, 'two': 2}"
   ]
  }
 ],
 "metadata": {
  "kernelspec": {
   "display_name": "Python 3",
   "language": "python",
   "name": "python3"
  },
  "language_info": {
   "codemirror_mode": {
    "name": "ipython",
    "version": 3
   },
   "file_extension": ".py",
   "mimetype": "text/x-python",
   "name": "python",
   "nbconvert_exporter": "python",
   "pygments_lexer": "ipython3",
   "version": "3.6.3"
  }
 },
 "nbformat": 4,
 "nbformat_minor": 2
}
