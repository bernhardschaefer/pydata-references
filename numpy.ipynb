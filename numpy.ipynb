{
 "cells": [
  {
   "cell_type": "markdown",
   "metadata": {
    "toc": true
   },
   "source": [
    "<h1>Table of Contents<span class=\"tocSkip\"></span></h1>\n",
    "<div class=\"toc\" style=\"margin-top: 1em;\"><ul class=\"toc-item\"><li><span><a href=\"#ndarray-creation\" data-toc-modified-id=\"ndarray-creation-1\"><span class=\"toc-item-num\">1&nbsp;&nbsp;</span>ndarray creation</a></span><ul class=\"toc-item\"><li><span><a href=\"#Sampling\" data-toc-modified-id=\"Sampling-1.1\"><span class=\"toc-item-num\">1.1&nbsp;&nbsp;</span>Sampling</a></span></li></ul></li><li><span><a href=\"#reshape\" data-toc-modified-id=\"reshape-2\"><span class=\"toc-item-num\">2&nbsp;&nbsp;</span>reshape</a></span></li><li><span><a href=\"#transformation\" data-toc-modified-id=\"transformation-3\"><span class=\"toc-item-num\">3&nbsp;&nbsp;</span>transformation</a></span><ul class=\"toc-item\"><li><span><a href=\"#element-wise\" data-toc-modified-id=\"element-wise-3.1\"><span class=\"toc-item-num\">3.1&nbsp;&nbsp;</span>element-wise</a></span></li><li><span><a href=\"#shape-changing\" data-toc-modified-id=\"shape-changing-3.2\"><span class=\"toc-item-num\">3.2&nbsp;&nbsp;</span>shape-changing</a></span><ul class=\"toc-item\"><li><span><a href=\"#Matrix-multiplication\" data-toc-modified-id=\"Matrix-multiplication-3.2.1\"><span class=\"toc-item-num\">3.2.1&nbsp;&nbsp;</span>Matrix multiplication</a></span></li><li><span><a href=\"#Vector-length\" data-toc-modified-id=\"Vector-length-3.2.2\"><span class=\"toc-item-num\">3.2.2&nbsp;&nbsp;</span>Vector length</a></span></li></ul></li></ul></li><li><span><a href=\"#Deep-Learning\" data-toc-modified-id=\"Deep-Learning-4\"><span class=\"toc-item-num\">4&nbsp;&nbsp;</span>Deep Learning</a></span><ul class=\"toc-item\"><li><span><a href=\"#log-loss-/-cross-entropy\" data-toc-modified-id=\"log-loss-/-cross-entropy-4.1\"><span class=\"toc-item-num\">4.1&nbsp;&nbsp;</span>log loss / cross-entropy</a></span></li><li><span><a href=\"#Weight-Initialization\" data-toc-modified-id=\"Weight-Initialization-4.2\"><span class=\"toc-item-num\">4.2&nbsp;&nbsp;</span>Weight Initialization</a></span></li></ul></li></ul></div>"
   ]
  },
  {
   "cell_type": "code",
   "execution_count": 1,
   "metadata": {
    "collapsed": true
   },
   "outputs": [],
   "source": [
    "import numpy as np\n",
    "np.set_printoptions(suppress=True)\n",
    "\n",
    "from IPython.core.interactiveshell import InteractiveShell\n",
    "InteractiveShell.ast_node_interactivity = \"all\"  # print all cell outputs and not just the last one"
   ]
  },
  {
   "cell_type": "markdown",
   "metadata": {},
   "source": [
    "## ndarray creation"
   ]
  },
  {
   "cell_type": "code",
   "execution_count": 2,
   "metadata": {},
   "outputs": [
    {
     "data": {
      "text/plain": [
       "array([1, 2, 3])"
      ]
     },
     "execution_count": 2,
     "metadata": {},
     "output_type": "execute_result"
    },
    {
     "data": {
      "text/plain": [
       "array([[1, 2],\n",
       "       [3, 4]])"
      ]
     },
     "execution_count": 2,
     "metadata": {},
     "output_type": "execute_result"
    },
    {
     "data": {
      "text/plain": [
       "array([1, 2, 3])"
      ]
     },
     "execution_count": 2,
     "metadata": {},
     "output_type": "execute_result"
    },
    {
     "data": {
      "text/plain": [
       "array([[4., 5., 6.],\n",
       "       [7., 8., 9.],\n",
       "       [1., 2., 3.]])"
      ]
     },
     "execution_count": 2,
     "metadata": {},
     "output_type": "execute_result"
    },
    {
     "data": {
      "text/plain": [
       "array([[0.],\n",
       "       [0.],\n",
       "       [0.]])"
      ]
     },
     "execution_count": 2,
     "metadata": {},
     "output_type": "execute_result"
    },
    {
     "data": {
      "text/plain": [
       "array([[0., 0., 0.],\n",
       "       [0., 0., 0.],\n",
       "       [0., 0., 0.]])"
      ]
     },
     "execution_count": 2,
     "metadata": {},
     "output_type": "execute_result"
    }
   ],
   "source": [
    "np.array([1,2,3])\n",
    "np.array([[1, 2], [3, 4]]) # shape (2,2)\n",
    "\n",
    "# create evenly spaced on log space\n",
    "alphas = np.logspace(0, -4, num=5, base=10.)\n",
    "\n",
    "np.arange(1, 4) # [1 2 3]\n",
    "x = np.arange(1, 10, dtype=np.float64).reshape(3,3)\n",
    "\n",
    "np.random.permutation(x)\n",
    "\n",
    "np.zeros((3, 1)) # dtype('float64')\n",
    "np.zeros_like(x) # same shape as x\n",
    "\n",
    "ones = np.ones((32, 1), dtype=np.int16)"
   ]
  },
  {
   "cell_type": "markdown",
   "metadata": {},
   "source": [
    "### Sampling"
   ]
  },
  {
   "cell_type": "code",
   "execution_count": 3,
   "metadata": {},
   "outputs": [
    {
     "data": {
      "text/plain": [
       "array([[ 0.23304352],\n",
       "       [-0.10562951],\n",
       "       [ 2.12127309],\n",
       "       [-0.50379179],\n",
       "       [-0.49687924]])"
      ]
     },
     "execution_count": 3,
     "metadata": {},
     "output_type": "execute_result"
    },
    {
     "data": {
      "text/plain": [
       "array([6, 9, 0, 8, 5, 1, 3, 4, 7, 2])"
      ]
     },
     "execution_count": 3,
     "metadata": {},
     "output_type": "execute_result"
    }
   ],
   "source": [
    "# create array of shape 32x32x3 with random samples from uniform distribution over [0, 1)\n",
    "img = np.random.rand(32, 32, 3)\n",
    "\n",
    "# sample array of shape 5x1 from standard normal distribution (mean 0 & variance 1)\n",
    "np.random.randn(5, 1)\n",
    "\n",
    "y = np.random.randint(1, 5, (3,1))\n",
    "\n",
    "# sample without replacement\n",
    "# can be used to create indices to randomly divide dataset\n",
    "np.random.permutation(10)"
   ]
  },
  {
   "cell_type": "markdown",
   "metadata": {},
   "source": [
    "## reshape"
   ]
  },
  {
   "cell_type": "code",
   "execution_count": 4,
   "metadata": {},
   "outputs": [
    {
     "data": {
      "text/plain": [
       "(3072, 1)"
      ]
     },
     "execution_count": 4,
     "metadata": {},
     "output_type": "execute_result"
    },
    {
     "data": {
      "text/plain": [
       "(array([ True]), array([3072]))"
      ]
     },
     "execution_count": 4,
     "metadata": {},
     "output_type": "execute_result"
    }
   ],
   "source": [
    "# create 1-column vector from array\n",
    "img_flat = img.reshape(np.prod(img.shape), 1)\n",
    "img_flat.shape\n",
    "\n",
    "# alternative way \n",
    "# np docs : \"One shape dimension can be -1. In this case, the value is inferred from the length of the array and remaining dimensions.\"\n",
    "img_flat2 = img.reshape(-1, 1)\n",
    "\n",
    "np.unique(img_flat == img_flat2, return_counts=True)"
   ]
  },
  {
   "cell_type": "markdown",
   "metadata": {},
   "source": [
    "## transformation"
   ]
  },
  {
   "cell_type": "markdown",
   "metadata": {},
   "source": [
    "### element-wise"
   ]
  },
  {
   "cell_type": "code",
   "execution_count": 5,
   "metadata": {},
   "outputs": [
    {
     "data": {
      "text/plain": [
       "array([[1., 2., 3.],\n",
       "       [4., 5., 6.],\n",
       "       [7., 8., 9.]])"
      ]
     },
     "execution_count": 5,
     "metadata": {},
     "output_type": "execute_result"
    },
    {
     "data": {
      "text/plain": [
       "array([[ 2.,  4.,  6.],\n",
       "       [ 8., 10., 12.],\n",
       "       [14., 16., 18.]])"
      ]
     },
     "execution_count": 5,
     "metadata": {},
     "output_type": "execute_result"
    },
    {
     "data": {
      "text/plain": [
       "array([[ 1.,  4.,  9.],\n",
       "       [16., 25., 36.],\n",
       "       [49., 64., 81.]])"
      ]
     },
     "execution_count": 5,
     "metadata": {},
     "output_type": "execute_result"
    },
    {
     "data": {
      "text/plain": [
       "array([[   2.71828183,    7.3890561 ,   20.08553692],\n",
       "       [  54.59815003,  148.4131591 ,  403.42879349],\n",
       "       [1096.63315843, 2980.95798704, 8103.08392758]])"
      ]
     },
     "execution_count": 5,
     "metadata": {},
     "output_type": "execute_result"
    }
   ],
   "source": [
    "# most functionality is available as ndarray method and np function\n",
    "np.round(x, 2) # x.round(2) \n",
    "\n",
    "# element-wise multiplication\n",
    "x * 2 # np.multiply(x, 2)\n",
    "\n",
    "# all 3 approaches calculate square element-wise\n",
    "# np.power(x, 2)\n",
    "# np.square(x)\n",
    "x**2 \n",
    "\n",
    "# misc methods\n",
    "np.exp(x)\n",
    "# np.tanh(x)\n",
    "# np.log(x)"
   ]
  },
  {
   "cell_type": "code",
   "execution_count": 6,
   "metadata": {},
   "outputs": [
    {
     "data": {
      "text/plain": [
       "0.8"
      ]
     },
     "execution_count": 6,
     "metadata": {},
     "output_type": "execute_result"
    }
   ],
   "source": [
    "# probabilistic classification\n",
    "y_prob = np.random.rand(10, 1)\n",
    "y_pred = (y_prob > 0.5)\n",
    "np.mean(y_pred) # numpy can convert boolean to 1/0"
   ]
  },
  {
   "cell_type": "markdown",
   "metadata": {},
   "source": [
    "### shape-changing"
   ]
  },
  {
   "cell_type": "code",
   "execution_count": 7,
   "metadata": {},
   "outputs": [
    {
     "data": {
      "text/plain": [
       "45.0"
      ]
     },
     "execution_count": 7,
     "metadata": {},
     "output_type": "execute_result"
    },
    {
     "data": {
      "text/plain": [
       "array([[1., 4., 7.],\n",
       "       [2., 5., 8.],\n",
       "       [3., 6., 9.]])"
      ]
     },
     "execution_count": 7,
     "metadata": {},
     "output_type": "execute_result"
    }
   ],
   "source": [
    "np.sum(x)\n",
    "\n",
    "x.T # transpose"
   ]
  },
  {
   "cell_type": "markdown",
   "metadata": {},
   "source": [
    "#### Dot product"
   ]
  },
  {
   "cell_type": "code",
   "execution_count": 8,
   "metadata": {},
   "outputs": [
    {
     "data": {
      "text/plain": [
       "array([[16.],\n",
       "       [40.],\n",
       "       [64.]])"
      ]
     },
     "execution_count": 8,
     "metadata": {},
     "output_type": "execute_result"
    }
   ],
   "source": [
    "np.dot(x, y)"
   ]
  },
  {
   "cell_type": "markdown",
   "metadata": {},
   "source": [
    "#### Matrix multiplication"
   ]
  },
  {
   "cell_type": "code",
   "execution_count": 9,
   "metadata": {},
   "outputs": [
    {
     "data": {
      "text/plain": [
       "array([[16.],\n",
       "       [40.],\n",
       "       [64.]])"
      ]
     },
     "execution_count": 9,
     "metadata": {},
     "output_type": "execute_result"
    },
    {
     "data": {
      "text/plain": [
       "array([[16.],\n",
       "       [40.],\n",
       "       [64.]])"
      ]
     },
     "execution_count": 9,
     "metadata": {},
     "output_type": "execute_result"
    }
   ],
   "source": [
    "np.matmul(x, y)\n",
    "# Python 3.5 adds magic function __matmul__ which can be called with '@'\n",
    "x @ y"
   ]
  },
  {
   "cell_type": "markdown",
   "metadata": {},
   "source": [
    "#### Vector length"
   ]
  },
  {
   "cell_type": "code",
   "execution_count": 10,
   "metadata": {},
   "outputs": [
    {
     "data": {
      "text/plain": [
       "3.7416573867739413"
      ]
     },
     "execution_count": 10,
     "metadata": {},
     "output_type": "execute_result"
    }
   ],
   "source": [
    "x = np.arange(1,4) # [1 2 3]\n",
    "np.linalg.norm(x) # length of the vector: sqrt(1**2 + 2**2 + 3**3) == sqrt(14) == 3.74..."
   ]
  },
  {
   "cell_type": "markdown",
   "metadata": {},
   "source": [
    "## Deep Learning"
   ]
  },
  {
   "cell_type": "markdown",
   "metadata": {},
   "source": [
    "### log loss / cross-entropy "
   ]
  },
  {
   "cell_type": "code",
   "execution_count": 11,
   "metadata": {},
   "outputs": [
    {
     "data": {
      "text/plain": [
       "0.19919670015668076"
      ]
     },
     "execution_count": 11,
     "metadata": {},
     "output_type": "execute_result"
    },
    {
     "data": {
      "text/plain": [
       "0.19919670015668073"
      ]
     },
     "execution_count": 11,
     "metadata": {},
     "output_type": "execute_result"
    }
   ],
   "source": [
    "Y = np.array([1, 0, 1, 1, 0])\n",
    "Y_pred = np.array([0.8, 0.1, 0.9, 0.6, 0.05])\n",
    "m = Y.shape[0]\n",
    "\n",
    "# option 1: using matrix multiplication\n",
    "cost = -1/m * (np.dot(Y.T, np.log(Y_pred)) + np.dot(1-Y.T, np.log(1-Y_pred)))\n",
    "\n",
    "# option 2: using np.sum + element-wise multiplication\n",
    "cost2 = -1/m * (np.sum(Y * np.log(Y_pred)) + np.sum((1-Y) * np.log(1-Y_pred)))\n",
    "cost2\n",
    "\n",
    "# option 3: scikit-learn :-)\n",
    "from sklearn.metrics import log_loss\n",
    "log_loss(Y, Y_pred)"
   ]
  },
  {
   "cell_type": "markdown",
   "metadata": {},
   "source": [
    "### Weight Initialization"
   ]
  },
  {
   "cell_type": "code",
   "execution_count": 12,
   "metadata": {},
   "outputs": [
    {
     "data": {
      "text/plain": [
       "array([[ 0.02457816,  0.01693632,  0.00994837, ...,  0.02994344,\n",
       "        -0.04753825,  0.04153849],\n",
       "       [-0.00557949, -0.01958601,  0.00920372, ...,  0.03111583,\n",
       "         0.04006163, -0.02953414],\n",
       "       [-0.03021859,  0.02825443, -0.01128457, ..., -0.02052847,\n",
       "         0.01613534, -0.00344512],\n",
       "       ...,\n",
       "       [-0.01966023,  0.01844714, -0.0341912 , ...,  0.0154537 ,\n",
       "         0.05115973,  0.04656195],\n",
       "       [ 0.04438327, -0.01179702,  0.02944869, ..., -0.018531  ,\n",
       "        -0.01995261, -0.00471176],\n",
       "       [ 0.01261908, -0.02087508,  0.00144148, ...,  0.01631626,\n",
       "        -0.00664304,  0.03012115]])"
      ]
     },
     "execution_count": 12,
     "metadata": {},
     "output_type": "execute_result"
    },
    {
     "data": {
      "text/plain": [
       "array([[ 0.04403107, -0.02507297,  0.02122098, ..., -0.04696683,\n",
       "        -0.01127871, -0.01896457],\n",
       "       [-0.06478163,  0.0051364 , -0.01068406, ...,  0.01271741,\n",
       "        -0.00202111, -0.02215773],\n",
       "       [-0.05195645,  0.03597704,  0.03798302, ..., -0.04566305,\n",
       "        -0.00840224, -0.00349142],\n",
       "       ...,\n",
       "       [ 0.06321923,  0.02471191, -0.05249893, ..., -0.02279615,\n",
       "        -0.00227544,  0.05126108],\n",
       "       [ 0.01411151,  0.01079825, -0.04587084, ...,  0.04247064,\n",
       "        -0.06456127,  0.01748129],\n",
       "       [ 0.06294662, -0.08762309, -0.00252301, ..., -0.00005524,\n",
       "         0.06966577,  0.00590748]])"
      ]
     },
     "execution_count": 12,
     "metadata": {},
     "output_type": "execute_result"
    }
   ],
   "source": [
    "layers_dims = [1024, 512, 512, 256, 1]\n",
    "\n",
    "l = 1\n",
    "# Xavier\n",
    "np.random.randn(layers_dims[l], layers_dims[l-1]) * np.sqrt(1./layers_dims[l-1])\n",
    "# He et al. 2015\n",
    "np.random.randn(layers_dims[l], layers_dims[l-1]) * np.sqrt(2./layers_dims[l-1]) "
   ]
  }
 ],
 "metadata": {
  "kernelspec": {
   "display_name": "Python 3",
   "language": "python",
   "name": "python3"
  },
  "language_info": {
   "codemirror_mode": {
    "name": "ipython",
    "version": 3
   },
   "file_extension": ".py",
   "mimetype": "text/x-python",
   "name": "python",
   "nbconvert_exporter": "python",
   "pygments_lexer": "ipython3",
   "version": "3.7.0"
  },
  "toc": {
   "nav_menu": {},
   "number_sections": true,
   "sideBar": true,
   "skip_h1_title": true,
   "toc_cell": true,
   "toc_position": {},
   "toc_section_display": "block",
   "toc_window_display": false
  }
 },
 "nbformat": 4,
 "nbformat_minor": 2
}
