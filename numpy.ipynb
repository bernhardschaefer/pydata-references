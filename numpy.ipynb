{
 "cells": [
  {
   "cell_type": "markdown",
   "metadata": {
    "toc": true
   },
   "source": [
    "<h1>Table of Contents<span class=\"tocSkip\"></span></h1>\n",
    "<div class=\"toc\" style=\"margin-top: 1em;\"><ul class=\"toc-item\"><li><span><a href=\"#ndarray-creation\" data-toc-modified-id=\"ndarray-creation-1\"><span class=\"toc-item-num\">1&nbsp;&nbsp;</span>ndarray creation</a></span></li><li><span><a href=\"#reshape\" data-toc-modified-id=\"reshape-2\"><span class=\"toc-item-num\">2&nbsp;&nbsp;</span>reshape</a></span></li><li><span><a href=\"#transformation\" data-toc-modified-id=\"transformation-3\"><span class=\"toc-item-num\">3&nbsp;&nbsp;</span>transformation</a></span><ul class=\"toc-item\"><li><span><a href=\"#element-wise\" data-toc-modified-id=\"element-wise-3.1\"><span class=\"toc-item-num\">3.1&nbsp;&nbsp;</span>element-wise</a></span></li><li><span><a href=\"#shape-changing\" data-toc-modified-id=\"shape-changing-3.2\"><span class=\"toc-item-num\">3.2&nbsp;&nbsp;</span>shape-changing</a></span></li></ul></li></ul></div>"
   ]
  },
  {
   "cell_type": "code",
   "execution_count": 1,
   "metadata": {
    "collapsed": true
   },
   "outputs": [],
   "source": [
    "import numpy as np"
   ]
  },
  {
   "cell_type": "markdown",
   "metadata": {},
   "source": [
    "## ndarray creation"
   ]
  },
  {
   "cell_type": "code",
   "execution_count": 2,
   "metadata": {
    "collapsed": true
   },
   "outputs": [],
   "source": [
    "np.array([1,2,3])\n",
    "np.array([[1, 2], [3, 4]]) # shape (2,2)\n",
    "\n",
    "# create array of shape 32x32x3 with random samples from uniform distribution over [0, 1)\n",
    "img = np.random.rand(32, 32, 3)\n",
    "\n",
    "# sample array of shape 10x1 from standard normal distribution (mean 0 & variance 1)\n",
    "np.random.randn(10, 1)\n",
    "\n",
    "np.arange(1, 4) # [1 2 3]\n",
    "\n",
    "np.zeros((32, 1)) # a3.dtype -> dtype('float64')\n",
    "np.ones((32, 1), dtype=np.int16)\n",
    "\n",
    "x = np.arange(9, dtype=np.float64).reshape(3,3)"
   ]
  },
  {
   "cell_type": "markdown",
   "metadata": {},
   "source": [
    "## reshape"
   ]
  },
  {
   "cell_type": "code",
   "execution_count": 3,
   "metadata": {},
   "outputs": [
    {
     "name": "stdout",
     "output_type": "stream",
     "text": [
      "(3072, 1)\n"
     ]
    },
    {
     "data": {
      "text/plain": [
       "(array([ True], dtype=bool), array([3072]))"
      ]
     },
     "execution_count": 3,
     "metadata": {},
     "output_type": "execute_result"
    }
   ],
   "source": [
    "# create 1-column vector from array\n",
    "img_flat = img.reshape(np.prod(img.shape), 1)\n",
    "print(img_flat.shape)\n",
    "\n",
    "# alternative way \n",
    "# np docs : \"One shape dimension can be -1. In this case, the value is inferred from the length of the array and remaining dimensions.\"\n",
    "img_flat2 = img.reshape(-1, 1)\n",
    "\n",
    "np.unique(img_flat == img_flat2, return_counts=True)"
   ]
  },
  {
   "cell_type": "markdown",
   "metadata": {},
   "source": [
    "## transformation"
   ]
  },
  {
   "cell_type": "markdown",
   "metadata": {},
   "source": [
    "### element-wise"
   ]
  },
  {
   "cell_type": "code",
   "execution_count": 4,
   "metadata": {},
   "outputs": [
    {
     "name": "stdout",
     "output_type": "stream",
     "text": [
      "[[  0.   2.   4.]\n",
      " [  6.   8.  10.]\n",
      " [ 12.  14.  16.]]\n",
      "[[  0.   1.   4.]\n",
      " [  9.  16.  25.]\n",
      " [ 36.  49.  64.]]\n"
     ]
    },
    {
     "data": {
      "text/plain": [
       "array([[  1.00000000e+00,   2.71828183e+00,   7.38905610e+00],\n",
       "       [  2.00855369e+01,   5.45981500e+01,   1.48413159e+02],\n",
       "       [  4.03428793e+02,   1.09663316e+03,   2.98095799e+03]])"
      ]
     },
     "execution_count": 4,
     "metadata": {},
     "output_type": "execute_result"
    }
   ],
   "source": [
    "# most functionality is available as ndarray method and np function\n",
    "x.round(2)\n",
    "np.round(x, 2)\n",
    "\n",
    "print(x * 2)\n",
    "print(x ** 2)\n",
    "\n",
    "np.exp(x)"
   ]
  },
  {
   "cell_type": "markdown",
   "metadata": {},
   "source": [
    "### shape-changing"
   ]
  },
  {
   "cell_type": "code",
   "execution_count": 5,
   "metadata": {},
   "outputs": [
    {
     "data": {
      "text/plain": [
       "array([ 16.,  52.,  88.])"
      ]
     },
     "execution_count": 5,
     "metadata": {},
     "output_type": "execute_result"
    }
   ],
   "source": [
    "np.sum(x)\n",
    "\n",
    "# matrix multiplication\n",
    "np.dot(x, x)\n",
    "# Python 3.5 adds magic function __matmul__ which can be called with '@'\n",
    "x @ np.array([2,4,6])"
   ]
  },
  {
   "cell_type": "code",
   "execution_count": 6,
   "metadata": {},
   "outputs": [
    {
     "data": {
      "text/plain": [
       "3.7416573867739413"
      ]
     },
     "execution_count": 6,
     "metadata": {},
     "output_type": "execute_result"
    }
   ],
   "source": [
    "x = np.arange(1,4) # [1 2 3]\n",
    "np.linalg.norm(x) # length of the vector: sqrt(1**2 + 2**2 + 3**3) == sqrt(14) == 3.74..."
   ]
  }
 ],
 "metadata": {
  "kernelspec": {
   "display_name": "Python 3",
   "language": "python",
   "name": "python3"
  },
  "language_info": {
   "codemirror_mode": {
    "name": "ipython",
    "version": 3
   },
   "file_extension": ".py",
   "mimetype": "text/x-python",
   "name": "python",
   "nbconvert_exporter": "python",
   "pygments_lexer": "ipython3",
   "version": "3.6.3"
  },
  "toc": {
   "nav_menu": {},
   "number_sections": true,
   "sideBar": true,
   "skip_h1_title": true,
   "toc_cell": true,
   "toc_position": {},
   "toc_section_display": "block",
   "toc_window_display": false
  }
 },
 "nbformat": 4,
 "nbformat_minor": 2
}
